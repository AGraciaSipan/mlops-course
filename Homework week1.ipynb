{
 "cells": [
  {
   "cell_type": "code",
   "execution_count": 1,
   "id": "b813c41a",
   "metadata": {},
   "outputs": [
    {
     "name": "stdout",
     "output_type": "stream",
     "text": [
      "Python 3.9.7\r\n"
     ]
    }
   ],
   "source": [
    "!python -V"
   ]
  },
  {
   "cell_type": "code",
   "execution_count": 2,
   "id": "ead8dc7e",
   "metadata": {
    "scrolled": true
   },
   "outputs": [],
   "source": [
    "import pandas as pd\n",
    "from numpy import std\n",
    "import seaborn as sns\n",
    "import matplotlib.pyplot as plt\n",
    "\n",
    "from sklearn.feature_extraction import DictVectorizer\n",
    "from sklearn.linear_model import LinearRegression\n",
    "\n",
    "from sklearn.metrics import mean_squared_error"
   ]
  },
  {
   "cell_type": "code",
   "execution_count": 3,
   "id": "97ba876b",
   "metadata": {},
   "outputs": [
    {
     "data": {
      "text/plain": [
       "19"
      ]
     },
     "execution_count": 3,
     "metadata": {},
     "output_type": "execute_result"
    }
   ],
   "source": [
    "df = pd.read_parquet('./data/yellow_tripdata_2022-01.parquet')\n",
    "len(df.columns)"
   ]
  },
  {
   "cell_type": "code",
   "execution_count": 4,
   "id": "519621df",
   "metadata": {},
   "outputs": [
    {
     "data": {
      "text/plain": [
       "46.44529571272228"
      ]
     },
     "execution_count": 4,
     "metadata": {},
     "output_type": "execute_result"
    }
   ],
   "source": [
    "df['duration'] = df.tpep_dropoff_datetime - df.tpep_pickup_datetime\n",
    "df.duration = df.duration.apply(lambda td: td.total_seconds() / 60)\n",
    "std(df.duration)"
   ]
  },
  {
   "cell_type": "code",
   "execution_count": 5,
   "id": "36abab98",
   "metadata": {},
   "outputs": [
    {
     "data": {
      "text/plain": [
       "2463931"
      ]
     },
     "execution_count": 5,
     "metadata": {},
     "output_type": "execute_result"
    }
   ],
   "source": [
    "len(df)"
   ]
  },
  {
   "cell_type": "code",
   "execution_count": 6,
   "id": "5324afcd",
   "metadata": {},
   "outputs": [
    {
     "data": {
      "text/plain": [
       "2421440"
      ]
     },
     "execution_count": 6,
     "metadata": {},
     "output_type": "execute_result"
    }
   ],
   "source": [
    "df1 = df[(df.duration >= 1) & (df.duration <= 60)]\n",
    "len(df1)"
   ]
  },
  {
   "cell_type": "code",
   "execution_count": 7,
   "id": "629c8140",
   "metadata": {},
   "outputs": [
    {
     "data": {
      "text/plain": [
       "0.9827547930522406"
      ]
     },
     "execution_count": 7,
     "metadata": {},
     "output_type": "execute_result"
    }
   ],
   "source": [
    "len(df1)/len(df)"
   ]
  },
  {
   "cell_type": "code",
   "execution_count": 8,
   "id": "aebd2897",
   "metadata": {},
   "outputs": [
    {
     "name": "stderr",
     "output_type": "stream",
     "text": [
      "/opt/miniconda3/envs/mlops-course/lib/python3.9/site-packages/pandas/core/frame.py:3641: SettingWithCopyWarning: \n",
      "A value is trying to be set on a copy of a slice from a DataFrame.\n",
      "Try using .loc[row_indexer,col_indexer] = value instead\n",
      "\n",
      "See the caveats in the documentation: https://pandas.pydata.org/pandas-docs/stable/user_guide/indexing.html#returning-a-view-versus-a-copy\n",
      "  self[k1] = value[k2]\n"
     ]
    },
    {
     "data": {
      "text/plain": [
       "<2421440x516 sparse matrix of type '<class 'numpy.float64'>'\n",
       "\twith 7264320 stored elements in Compressed Sparse Row format>"
      ]
     },
     "execution_count": 8,
     "metadata": {},
     "output_type": "execute_result"
    }
   ],
   "source": [
    "# define categorical and numerical columns we will use\n",
    "categorical = ['PULocationID', 'DOLocationID']\n",
    "numerical = ['trip_distance']\n",
    "\n",
    "df1[categorical] = df1[categorical].astype(str)\n",
    "# transform the DataFrame to a dictionary because is what DictVectorizer() expects\n",
    "dicts = df1[categorical + numerical].to_dict(orient='records')\n",
    "\n",
    "# this class does OHE directly without needing us to implement it\n",
    "dv = DictVectorizer()\n",
    "# we get the training matrix\n",
    "X = dv.fit_transform(dicts)\n",
    "X"
   ]
  },
  {
   "cell_type": "markdown",
   "id": "d92fd230",
   "metadata": {},
   "source": [
    "## Training"
   ]
  },
  {
   "cell_type": "code",
   "execution_count": 9,
   "id": "c16f8acd",
   "metadata": {},
   "outputs": [],
   "source": [
    "def read_dataframe(filename):\n",
    "    df = pd.read_parquet(filename)\n",
    "\n",
    "    # we want to predict the duration so we calculate it in minuts\n",
    "    df['duration'] = df.tpep_dropoff_datetime - df.tpep_pickup_datetime\n",
    "    df.duration = df.duration.apply(lambda td: td.total_seconds() / 60)\n",
    "\n",
    "    # filter out outliers of less than 1min and more than 60min\n",
    "    df = df[(df.duration >= 1) & (df.duration <= 60)]\n",
    "\n",
    "    # transform categorical columns to string\n",
    "    categorical = ['PULocationID', 'DOLocationID']\n",
    "    df[categorical] = df[categorical].astype(str)\n",
    "    \n",
    "    return df"
   ]
  },
  {
   "cell_type": "code",
   "execution_count": 10,
   "id": "63388463",
   "metadata": {},
   "outputs": [],
   "source": [
    "df_train = read_dataframe('./data/yellow_tripdata_2022-01.parquet')\n",
    "df_val = read_dataframe('./data/yellow_tripdata_2022-02.parquet')"
   ]
  },
  {
   "cell_type": "code",
   "execution_count": 11,
   "id": "26ebbb84",
   "metadata": {
    "scrolled": true
   },
   "outputs": [
    {
     "data": {
      "text/plain": [
       "(2421440, 2918187)"
      ]
     },
     "execution_count": 11,
     "metadata": {},
     "output_type": "execute_result"
    }
   ],
   "source": [
    "len(df_train), len(df_val)"
   ]
  },
  {
   "cell_type": "code",
   "execution_count": 12,
   "id": "fc7fe9df",
   "metadata": {},
   "outputs": [
    {
     "data": {
      "text/plain": [
       "6.986326969515353"
      ]
     },
     "execution_count": 12,
     "metadata": {},
     "output_type": "execute_result"
    }
   ],
   "source": [
    "# define categorical and numerical columns we will use\n",
    "categorical = ['PULocationID', 'DOLocationID']\n",
    "numerical = ['trip_distance']\n",
    "\n",
    "# transform the DataFrame to a dictionary because is what DictVectoriizer() expects\n",
    "train_dicts = df_train[categorical + numerical].to_dict(orient='records')\n",
    "\n",
    "# this class does OHE directly without needing us to implement it\n",
    "dv = DictVectorizer()\n",
    "# we get the training matrix\n",
    "X_train = dv.fit_transform(train_dicts)\n",
    "\n",
    "val_dicts = df_val[categorical + numerical].to_dict(orient='records')\n",
    "X_val = dv.transform(val_dicts)\n",
    "\n",
    "# define the column we want to predict and select the data\n",
    "target = 'duration'\n",
    "y_train = df_train[target].values\n",
    "y_val = df_val[target].values\n",
    "\n",
    "# train the model\n",
    "lr = LinearRegression()\n",
    "lr.fit(X_train, y_train)\n",
    "\n",
    "# predict for training data\n",
    "y_pred = lr.predict(X_train)\n",
    "mean_squared_error(y_train, y_pred, squared=False)"
   ]
  },
  {
   "cell_type": "code",
   "execution_count": 13,
   "id": "f52b92d0",
   "metadata": {},
   "outputs": [
    {
     "data": {
      "text/plain": [
       "7.786091896902708"
      ]
     },
     "execution_count": 13,
     "metadata": {},
     "output_type": "execute_result"
    }
   ],
   "source": [
    "# predict for validation data\n",
    "y_pred = lr.predict(X_val)\n",
    "\n",
    "# let's see the error we get with this first iteration (in minuts)\n",
    "mean_squared_error(y_val, y_pred, squared=False)"
   ]
  }
 ],
 "metadata": {
  "kernelspec": {
   "display_name": "Python 3 (ipykernel)",
   "language": "python",
   "name": "python3"
  },
  "language_info": {
   "codemirror_mode": {
    "name": "ipython",
    "version": 3
   },
   "file_extension": ".py",
   "mimetype": "text/x-python",
   "name": "python",
   "nbconvert_exporter": "python",
   "pygments_lexer": "ipython3",
   "version": "3.9.7"
  }
 },
 "nbformat": 4,
 "nbformat_minor": 5
}
